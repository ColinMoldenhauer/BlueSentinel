{
 "cells": [
  {
   "cell_type": "code",
   "execution_count": null,
   "metadata": {},
   "outputs": [
    {
     "name": "stdout",
     "output_type": "stream",
     "text": [
      "[-1.28905462 49.38488672 -0.90260433 49.60361061]\n"
     ]
    }
   ],
   "source": [
    "import geopandas as gpd\n",
    "import fiona\n",
    "fiona.drvsupport.supported_drivers['libkml'] = 'rw' # enable KML support which is disabled by default\n",
    "fiona.drvsupport.supported_drivers['LIBKML'] = 'rw'\n",
    "path = 'FR2502020.kml'\n",
    "\n",
    "# read the kml file\n",
    "gdf = gpd.read_file(path)\n",
    "\n",
    "# calculate the bounding box\n",
    "bbox = gdf.total_bounds\n",
    "\n",
    "print(bbox)"
   ]
  },
  {
   "cell_type": "code",
   "execution_count": 6,
   "metadata": {},
   "outputs": [
    {
     "name": "stderr",
     "output_type": "stream",
     "text": [
      "--- request header ---\n",
      "GET /v0/stream HTTP/1.1\n",
      "Upgrade: websocket\n",
      "Host: stream.aisstream.io\n",
      "Origin: http://stream.aisstream.io\n",
      "Sec-WebSocket-Key: 6PN5WPam6aSiG3ArYM3dOA==\n",
      "Sec-WebSocket-Version: 13\n",
      "Connection: Upgrade\n",
      "\n",
      "\n",
      "-----------------------\n",
      "--- response header ---\n",
      "HTTP/1.1 101 Switching Protocols\n",
      "upgrade: websocket\n",
      "connection: Upgrade\n",
      "sec-websocket-accept: 1BlJvHfsjtx0wxaZiLpW+JD62GY=\n",
      "set-cookie: sticky_session=\"b1214ba0d3ddfc22\"; Max-Age=300; HttpOnly\n",
      "date: Sat, 04 Nov 2023 16:08:22 GMT\n",
      "server: envoy\n",
      "-----------------------\n",
      "++Sent raw: b'\\x81\\xfe\\x00\\x91Q7+\\xd0*\\x15j\\x80\\x18|N\\xa9s\\r\\x0b\\xf2aV\\x12\\xb6a\\x00\\x1f\\xb40\\x04\\x12\\xe3c\\x06I\\xb3c\\x01M\\xe2fUN\\xe4a\\x01N\\xb1c\\x07J\\xe4aU\\x1b\\xb15\\x06\\x1e\\xe5s\\x1b\\x0b\\xf2\\x13X^\\xbe5^E\\xb7\\x13XS\\xb5\"\\x15\\x11\\xf0\\nlp\\xe4h\\x19\\x18\\xe8e\\x0f\\x13\\xe6f\\x05\\x19\\xfcq\\x1a\\x1a\\xfec\\x0f\\x12\\xe0d\\x03\\x1d\\xe1g\\x0e\\x12\\xe9h\\x0fv\\xfcql\\x1f\\xe9\\x7f\\x01\\x1b\\xe3g\\x06\\x1b\\xe6`\\x1b\\x0b\\xfda\\x19\\x12\\xe0c\\x01\\x1b\\xe4b\\x05\\x12\\xe9h\\x0e\\x12\\xe7ejv\\x8d,'\n",
      "++Sent decoded: fin=1 opcode=1 data=b'{\"APIKey\": \"0a9f074da39321bc26f27be406ea20a40b0ad155\", \"BoundingBoxes\": [[[49.384886722, -1.28905461699998], [49.60361061, -0.902604329999974]]]}'\n"
     ]
    },
    {
     "name": "stdout",
     "output_type": "stream",
     "text": [
      "Connection opened\n"
     ]
    },
    {
     "name": "stderr",
     "output_type": "stream",
     "text": [
      "++Rcv raw: b'\\x82~\\x02-{\"Message\":{\"PositionReport\":{\"Cog\":360,\"CommunicationState\":59916,\"Latitude\":49.4675,\"Longitude\":-0.9999333333333333,\"MessageID\":3,\"NavigationalStatus\":1,\"PositionAccuracy\":true,\"Raim\":true,\"RateOfTurn\":0,\"RepeatIndicator\":0,\"Sog\":0.1,\"Spare\":0,\"SpecialManoeuvreIndicator\":0,\"Timestamp\":59,\"TrueHeading\":187,\"UserID\":244621000,\"Valid\":true}},\"MessageType\":\"PositionReport\",\"MetaData\":{\"MMSI\":244621000,\"MMSI_String\":244621000,\"ShipName\":\"LADY CARINA\",\"latitude\":49.4675,\"longitude\":-0.9999333333333333,\"time_utc\":\"2023-11-04 16:09:00.214487798 +0000 UTC\"}}'\n",
      "++Rcv decoded: fin=1 opcode=2 data=b'{\"Message\":{\"PositionReport\":{\"Cog\":360,\"CommunicationState\":59916,\"Latitude\":49.4675,\"Longitude\":-0.9999333333333333,\"MessageID\":3,\"NavigationalStatus\":1,\"PositionAccuracy\":true,\"Raim\":true,\"RateOfTurn\":0,\"RepeatIndicator\":0,\"Sog\":0.1,\"Spare\":0,\"SpecialManoeuvreIndicator\":0,\"Timestamp\":59,\"TrueHeading\":187,\"UserID\":244621000,\"Valid\":true}},\"MessageType\":\"PositionReport\",\"MetaData\":{\"MMSI\":244621000,\"MMSI_String\":244621000,\"ShipName\":\"LADY CARINA\",\"latitude\":49.4675,\"longitude\":-0.9999333333333333,\"time_utc\":\"2023-11-04 16:09:00.214487798 +0000 UTC\"}}'\n"
     ]
    },
    {
     "name": "stdout",
     "output_type": "stream",
     "text": [
      "{'Message': {'PositionReport': {'Cog': 360, 'CommunicationState': 59916, 'Latitude': 49.4675, 'Longitude': -0.9999333333333333, 'MessageID': 3, 'NavigationalStatus': 1, 'PositionAccuracy': True, 'Raim': True, 'RateOfTurn': 0, 'RepeatIndicator': 0, 'Sog': 0.1, 'Spare': 0, 'SpecialManoeuvreIndicator': 0, 'Timestamp': 59, 'TrueHeading': 187, 'UserID': 244621000, 'Valid': True}}, 'MessageType': 'PositionReport', 'MetaData': {'MMSI': 244621000, 'MMSI_String': 244621000, 'ShipName': 'LADY CARINA', 'latitude': 49.4675, 'longitude': -0.9999333333333333, 'time_utc': '2023-11-04 16:09:00.214487798 +0000 UTC'}}\n"
     ]
    },
    {
     "name": "stderr",
     "output_type": "stream",
     "text": [
      "++Rcv raw: b'\\x82~\\x028{\"Message\":{\"PositionReport\":{\"Cog\":120.3,\"CommunicationState\":59916,\"Latitude\":49.58602666666666,\"Longitude\":-0.9619816666666666,\"MessageID\":3,\"NavigationalStatus\":1,\"PositionAccuracy\":false,\"Raim\":false,\"RateOfTurn\":0,\"RepeatIndicator\":0,\"Sog\":0,\"Spare\":0,\"SpecialManoeuvreIndicator\":0,\"Timestamp\":17,\"TrueHeading\":194,\"UserID\":210028000,\"Valid\":true}},\"MessageType\":\"PositionReport\",\"MetaData\":{\"MMSI\":210028000,\"MMSI_String\":210028000,\"ShipName\":\"\",\"latitude\":49.58602666666666,\"longitude\":-0.9619816666666666,\"time_utc\":\"2023-11-04 16:09:19.083325986 +0000 UTC\"}}'\n",
      "++Rcv decoded: fin=1 opcode=2 data=b'{\"Message\":{\"PositionReport\":{\"Cog\":120.3,\"CommunicationState\":59916,\"Latitude\":49.58602666666666,\"Longitude\":-0.9619816666666666,\"MessageID\":3,\"NavigationalStatus\":1,\"PositionAccuracy\":false,\"Raim\":false,\"RateOfTurn\":0,\"RepeatIndicator\":0,\"Sog\":0,\"Spare\":0,\"SpecialManoeuvreIndicator\":0,\"Timestamp\":17,\"TrueHeading\":194,\"UserID\":210028000,\"Valid\":true}},\"MessageType\":\"PositionReport\",\"MetaData\":{\"MMSI\":210028000,\"MMSI_String\":210028000,\"ShipName\":\"\",\"latitude\":49.58602666666666,\"longitude\":-0.9619816666666666,\"time_utc\":\"2023-11-04 16:09:19.083325986 +0000 UTC\"}}'\n"
     ]
    },
    {
     "name": "stdout",
     "output_type": "stream",
     "text": [
      "{'Message': {'PositionReport': {'Cog': 120.3, 'CommunicationState': 59916, 'Latitude': 49.58602666666666, 'Longitude': -0.9619816666666666, 'MessageID': 3, 'NavigationalStatus': 1, 'PositionAccuracy': False, 'Raim': False, 'RateOfTurn': 0, 'RepeatIndicator': 0, 'Sog': 0, 'Spare': 0, 'SpecialManoeuvreIndicator': 0, 'Timestamp': 17, 'TrueHeading': 194, 'UserID': 210028000, 'Valid': True}}, 'MessageType': 'PositionReport', 'MetaData': {'MMSI': 210028000, 'MMSI_String': 210028000, 'ShipName': '', 'latitude': 49.58602666666666, 'longitude': -0.9619816666666666, 'time_utc': '2023-11-04 16:09:19.083325986 +0000 UTC'}}\n"
     ]
    },
    {
     "name": "stderr",
     "output_type": "stream",
     "text": [
      "++Rcv raw: b'\\x82~\\x02<{\"Message\":{\"PositionReport\":{\"Cog\":262.4,\"CommunicationState\":59916,\"Latitude\":49.555555,\"Longitude\":-0.9470550000000001,\"MessageID\":3,\"NavigationalStatus\":1,\"PositionAccuracy\":true,\"Raim\":true,\"RateOfTurn\":0,\"RepeatIndicator\":0,\"Sog\":0.2,\"Spare\":0,\"SpecialManoeuvreIndicator\":0,\"Timestamp\":43,\"TrueHeading\":207,\"UserID\":636023010,\"Valid\":true}},\"MessageType\":\"PositionReport\",\"MetaData\":{\"MMSI\":636023010,\"MMSI_String\":636023010,\"ShipName\":\"CERULEAN            \",\"latitude\":49.555555,\"longitude\":-0.9470550000000001,\"time_utc\":\"2023-11-04 16:09:42.737101847 +0000 UTC\"}}'\n",
      "++Rcv decoded: fin=1 opcode=2 data=b'{\"Message\":{\"PositionReport\":{\"Cog\":262.4,\"CommunicationState\":59916,\"Latitude\":49.555555,\"Longitude\":-0.9470550000000001,\"MessageID\":3,\"NavigationalStatus\":1,\"PositionAccuracy\":true,\"Raim\":true,\"RateOfTurn\":0,\"RepeatIndicator\":0,\"Sog\":0.2,\"Spare\":0,\"SpecialManoeuvreIndicator\":0,\"Timestamp\":43,\"TrueHeading\":207,\"UserID\":636023010,\"Valid\":true}},\"MessageType\":\"PositionReport\",\"MetaData\":{\"MMSI\":636023010,\"MMSI_String\":636023010,\"ShipName\":\"CERULEAN            \",\"latitude\":49.555555,\"longitude\":-0.9470550000000001,\"time_utc\":\"2023-11-04 16:09:42.737101847 +0000 UTC\"}}'\n"
     ]
    },
    {
     "name": "stdout",
     "output_type": "stream",
     "text": [
      "{'Message': {'PositionReport': {'Cog': 262.4, 'CommunicationState': 59916, 'Latitude': 49.555555, 'Longitude': -0.9470550000000001, 'MessageID': 3, 'NavigationalStatus': 1, 'PositionAccuracy': True, 'Raim': True, 'RateOfTurn': 0, 'RepeatIndicator': 0, 'Sog': 0.2, 'Spare': 0, 'SpecialManoeuvreIndicator': 0, 'Timestamp': 43, 'TrueHeading': 207, 'UserID': 636023010, 'Valid': True}}, 'MessageType': 'PositionReport', 'MetaData': {'MMSI': 636023010, 'MMSI_String': 636023010, 'ShipName': 'CERULEAN            ', 'latitude': 49.555555, 'longitude': -0.9470550000000001, 'time_utc': '2023-11-04 16:09:42.737101847 +0000 UTC'}}\n"
     ]
    }
   ],
   "source": [
    "import websocket\n",
    "import json\n",
    "\n",
    "URL = 'wss://stream.aisstream.io/v0/stream'\n",
    "API_KEY = '0a9f074da39321bc26f27be406ea20a40b0ad155'\n",
    "SAVE_FILE = 'ais.json'\n",
    "\n",
    "def on_message(ws, message):\n",
    "    with open(SAVE_FILE, 'a') as f:\n",
    "        f.write(str(message) + '\\n')\n",
    "\n",
    "def on_error(ws, error):\n",
    "    with open(SAVE_FILE, 'a') as f:\n",
    "        f.write(str(error) + '\\n')\n",
    "\n",
    "def on_close(ws):\n",
    "    with open(SAVE_FILE, 'a') as f:\n",
    "        f.write(\"Connection closed\\n\")\n",
    "\n",
    "def on_open(ws):\n",
    "    with open(SAVE_FILE, 'a') as f:\n",
    "        f.write(\"Connection opened\\n\")\n",
    "    ws.send(json.dumps({\n",
    "        \"APIKey\": API_KEY,\n",
    "        \"BoundingBoxes\": [[[bbox[1], bbox[0]], [bbox[3], bbox[2]]]]\n",
    "    }))\n",
    "\n",
    "if __name__ == \"__main__\":\n",
    "    websocket.enableTrace(True)\n",
    "    ws = websocket.WebSocketApp(URL,\n",
    "                                on_message = on_message,\n",
    "                                on_error = on_error,\n",
    "                                on_close = on_close)\n",
    "    ws.on_open = on_open\n",
    "    ws.run_forever()\n"
   ]
  },
  {
   "cell_type": "code",
   "execution_count": null,
   "metadata": {},
   "outputs": [],
   "source": []
  }
 ],
 "metadata": {
  "kernelspec": {
   "display_name": "CTIS",
   "language": "python",
   "name": "python3"
  },
  "language_info": {
   "codemirror_mode": {
    "name": "ipython",
    "version": 3
   },
   "file_extension": ".py",
   "mimetype": "text/x-python",
   "name": "python",
   "nbconvert_exporter": "python",
   "pygments_lexer": "ipython3",
   "version": "3.9.10"
  }
 },
 "nbformat": 4,
 "nbformat_minor": 2
}
